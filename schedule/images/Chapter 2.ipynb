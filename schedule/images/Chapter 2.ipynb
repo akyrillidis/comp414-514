{
 "cells": [
  {
   "cell_type": "markdown",
   "metadata": {},
   "source": [
    "### Agnostic smooth minimization"
   ]
  },
  {
   "cell_type": "markdown",
   "metadata": {},
   "source": [
    "**Purpose of this demo**: Motivate optimization in general (hyper-parameter selection, non-convexity)\n",
    "\n",
    "+ Disclaimer: I'm not expert in Python - I use Python/Matlab as tools to validate algorithms and theorems. \n",
    "+ Thus, my implementations are not the most efficient ones + there might be bugs"
   ]
  },
  {
   "cell_type": "markdown",
   "metadata": {},
   "source": [
    "**Problem definition: Weird 2d non-convex problem**. \n",
    "\n",
    "\\begin{align}\n",
    "  f(x_1, x_2) = (x_1 + 2x_2 - 7)^2 + (2x_1 + x_2 - 5)^2\n",
    "\\end{align}\n",
    "\n",
    "\\begin{equation*}\n",
    "\\begin{aligned}\n",
    "& \\underset{x \\in \\mathbb{R}^2}{\\text{min}}\n",
    "& & f(x_1, x_2)\n",
    "\\end{aligned}\n",
    "\\end{equation*}\n",
    "\n",
    "+ Any properties you might extract by just looking at the function?"
   ]
  },
  {
   "cell_type": "markdown",
   "metadata": {},
   "source": [
    "+ Is it differentiable?\n",
    "\n",
    "\\begin{align}\n",
    "  \\frac{\\partial f(x_1, x_2)}{\\partial x_1} = 2(x_1 + 2x_2 - 7) + 4(2x_1 + x_2 - 5)\n",
    "\\end{align}\n",
    "\n",
    "\\begin{align}\n",
    "  \\frac{\\partial f(x_1, x_2)}{\\partial x_2} = 4(x_1 + 2x_2 - 7) + 2(2x_1 + x_2 - 5)\n",
    "\\end{align}\n",
    "\n",
    "and as a vector:\n",
    "\\begin{align}\n",
    "    \\nabla f(x_1, x_2) = \\begin{bmatrix} 2(x_1 + 2x_2 - 7) + 4(2x_1 + x_2 - 5) \\\\ 4(x_1 + 2x_2 - 7) + 2(2x_1 + x_2 - 5) \\end{bmatrix}\n",
    "\\end{align}\n",
    "\n",
    "+ Is it negative-valued, positive-valued, or both?"
   ]
  },
  {
   "cell_type": "markdown",
   "metadata": {},
   "source": [
    "**3D plot** "
   ]
  },
  {
   "cell_type": "code",
   "execution_count": null,
   "metadata": {},
   "outputs": [],
   "source": [
    "%matplotlib inline\n",
    "\n",
    "import warnings\n",
    "warnings.filterwarnings('ignore')\n",
    "\n",
    "import numpy as np\n",
    "import scipy as sp\n",
    "import matplotlib.pyplot as plt\n",
    "import random\n",
    "\n",
    "from matplotlib import rc\n",
    "#rc('font',**{'family':'sans-serif','sans-serif':['Helvetica']})\n",
    "## for Palatino and other serif fonts use:\n",
    "rc('font',**{'family':'serif','serif':['Palatino']})\n",
    "rc('text', usetex=True)\n",
    "\n",
    "from numpy import linalg as la\n",
    "\n",
    "from mpl_toolkits.mplot3d import Axes3D\n",
    "from matplotlib import cm\n",
    "from matplotlib.ticker import LinearLocator, FormatStrFormatter\n",
    "\n",
    "fig = plt.figure()\n",
    "ax = fig.add_subplot(111, projection='3d')\n",
    "\n",
    "# Make data.\n",
    "X = np.arange(-10, 10, 0.25)\n",
    "Y = np.arange(-10, 10, 0.25)\n",
    "X, Y = np.meshgrid(X, Y)\n",
    "Z = (X + 2*Y - 7)**2 + (2*X + Y - 5)**2\n",
    "\n",
    "ax.plot_wireframe(X, Y, Z, rstride=4, cstride=4)\n",
    "ax.view_init(10, 90)"
   ]
  },
  {
   "cell_type": "code",
   "execution_count": null,
   "metadata": {},
   "outputs": [],
   "source": [
    "# Returns the value of the objecive function\n",
    "def f(x):\n",
    "    return (x[0] + 2*x[1] - 7)**2 + (2*x[0] + x[1] - 5)**2"
   ]
  },
  {
   "cell_type": "code",
   "execution_count": null,
   "metadata": {},
   "outputs": [],
   "source": [
    "def GD_Booth(x_new, eta, iters, epsilon, verbose, x_star):\n",
    "    p = 2\n",
    "    \n",
    "    x_list, f_list = [la.norm(x_new - x_star, 2)], [f(x_new)]\n",
    "\n",
    "    for i in range(iters):\n",
    "        x_old = x_new\n",
    "    \n",
    "        # Compute gradient\n",
    "        grad = np.zeros(p)\n",
    "        grad[0] = 2*(x_old[0] + 2*x_old[1] - 7) + 4*(2*x_old[0] + x_old[1] - 5)\n",
    "        grad[1] = 4*(x_old[0] + 2*x_old[1] - 7) + 2*(2*x_old[0] + x_old[1] - 5)\n",
    "    \n",
    "        # Perform gradient step\n",
    "        x_new = x_old - eta * grad    \n",
    "        \n",
    "        if (la.norm(x_new - x_old, 2) / la.norm(x_new, 2)) < epsilon:\n",
    "            break\n",
    "                \n",
    "        # Keep track of solutions and objective values\n",
    "        x_list.append(la.norm(x_new - x_star, 2))\n",
    "        f_list.append(f(x_new))\n",
    "        \n",
    "        if verbose:\n",
    "            print(\"iter# = \"+ str(i) + \", ||x_new - x_star||_2 = \" + str(la.norm(x_new - x_star, 2)) + \", f(x_new) = \" + str(f(x_new)))\n",
    "    \n",
    "    print(\"Number of steps:\", len(f_list))\n",
    "    return x_new, x_list, f_list"
   ]
  },
  {
   "cell_type": "code",
   "execution_count": null,
   "metadata": {},
   "outputs": [],
   "source": [
    "# Run algorithm\n",
    "epsilon = 1e-6                # Precision parameter\n",
    "iters = 100\n",
    "eta = 0.1\n",
    "x_init = np.random.randn(2)    # Initial estimate\n",
    "print(x_init)\n",
    "x_init[0] = -10\n",
    "x_init[1] = 10\n",
    "#print(x_init)\n",
    "x_star = [1, 3]\n",
    "        \n",
    "x_GD, x_list, f_list = GD_Booth(x_init, eta, iters, epsilon, True, x_star)\n",
    "\n",
    "# Plot\n",
    "plt.rc('text', usetex=True)\n",
    "plt.rc('font', family='serif')\n",
    "\n",
    "xs = range(len(x_list))\n",
    "plt.plot(xs, x_list, '-o', color = '#3399FF', linewidth = 4, alpha = 0.7, markerfacecolor = 'b')\n",
    "plt.yscale('log')\n",
    "plt.xlabel('Iterations')\n",
    "plt.ylabel(r\"$\\|x^\\star - \\widehat{x}\\|_2$\")\n",
    "\n",
    "# Make room for the ridiculously large title.\n",
    "plt.subplots_adjust(top=0.8)\n",
    "plt.show()"
   ]
  },
  {
   "cell_type": "markdown",
   "metadata": {},
   "source": [
    "**Problem definition: Weirder 2d non-convex problem**. \n",
    "\n",
    "\\begin{align}\n",
    "  f(x_1, x_2) = \\sum_{i = 1}^2 \\tfrac{x_i^2}{4000} - \\prod_{i = 1}^2\\cos\\left( \\tfrac{x_i}{\\sqrt{i}} \\right) + 1\n",
    "\\end{align}\n",
    "\n",
    "\\begin{equation*}\n",
    "\\begin{aligned}\n",
    "& \\underset{x \\in \\mathbb{R}^2}{\\text{min}}\n",
    "& & f(x_1, x_2)\n",
    "\\end{aligned}\n",
    "\\end{equation*}\n",
    "\n",
    "+ Any properties you might extract by just looking at the function?"
   ]
  },
  {
   "cell_type": "markdown",
   "metadata": {},
   "source": [
    "+ Is it differentiable?\n",
    "\n",
    "\\begin{align}\n",
    "  \\frac{\\partial f(x_1, x_2)}{\\partial x_1} = \\tfrac{x_1}{2000} + \\sin\\left(x_1\\right) \\cdot \\cos\\left(\\tfrac{x_2}{\\sqrt{2}}\\right)\n",
    "\\end{align}\n",
    "\n",
    "\\begin{align}\n",
    "  \\frac{\\partial f(x_1, x_2)}{\\partial x_2} = \\tfrac{x_2}{2000} + \\cos\\left(x_1\\right) \\cdot \\frac{\\sin\\left(\\tfrac{x_2}{\\sqrt{2}}\\right)}{\\sqrt{2}}\n",
    "\\end{align}\n",
    "\n",
    "and as a vector:\n",
    "\\begin{align}\n",
    "    \\nabla f(x_1, x_2) = \\begin{bmatrix} \\tfrac{x_1}{2000} + \\sin\\left(x_1\\right) \\cdot \\cos\\left(\\tfrac{x_2}{\\sqrt{2}}\\right) \\\\ \n",
    "    \\tfrac{x_2}{2000} + \\cos\\left(x_1\\right) \\cdot \\frac{\\sin\\left(\\tfrac{x_2}{\\sqrt{2}}\\right)}{\\sqrt{2}} \\end{bmatrix}\n",
    "\\end{align}"
   ]
  },
  {
   "cell_type": "markdown",
   "metadata": {},
   "source": [
    "**3D plot** "
   ]
  },
  {
   "cell_type": "code",
   "execution_count": null,
   "metadata": {},
   "outputs": [],
   "source": [
    "fig = plt.figure()\n",
    "ax = fig.add_subplot(111, projection='3d')\n",
    "\n",
    "# Make data.\n",
    "X = np.arange(-5, 5, 0.25)\n",
    "Y = np.arange(-5, 5, 0.25)\n",
    "X, Y = np.meshgrid(X, Y)\n",
    "Z = (X**2)/4000 + (Y**2)/4000 - np.cos(X)*np.cos(Y/np.sqrt(2)) + 1\n",
    "\n",
    "surf = ax.plot_surface(X, Y, Z, cmap=cm.coolwarm,\n",
    "                       linewidth=0, antialiased=False)"
   ]
  },
  {
   "cell_type": "code",
   "execution_count": null,
   "metadata": {},
   "outputs": [],
   "source": [
    "# Returns the value of the objecive function\n",
    "def f(x):\n",
    "    return (x[0]**2)/4000 + (x[1]**2)/4000 - np.cos(x[0])*np.cos(x[1]/np.sqrt(2)) + 1"
   ]
  },
  {
   "cell_type": "code",
   "execution_count": null,
   "metadata": {},
   "outputs": [],
   "source": [
    "def GD_Griewank(x_new, eta, iters, epsilon, verbose, x_star):\n",
    "    p = 2\n",
    "    \n",
    "    x_list, f_list = [la.norm(x_new - x_star, 2)], [f(x_new)]\n",
    "\n",
    "    for i in range(iters):\n",
    "        x_old = x_new\n",
    "    \n",
    "        # Compute gradient\n",
    "        grad = np.zeros(p)\n",
    "        grad[0] = x_old[0]/2000 + np.sin(x_old[0]) * np.cos(x_old[1]/np.sqrt(2))\n",
    "        grad[1] = x_old[1]/2000 + np.cos(x_old[0]) * np.sin(x_old[1]/np.sqrt(2))/np.sqrt(2)\n",
    "    \n",
    "        # Perform gradient step\n",
    "        x_new = x_old - eta * grad    \n",
    "        \n",
    "        if (la.norm(x_new - x_old, 2) / la.norm(x_new, 2)) < epsilon:\n",
    "            break\n",
    "                \n",
    "        # Keep track of solutions and objective values\n",
    "        x_list.append(la.norm(x_new - x_star, 2))\n",
    "        f_list.append(f(x_new))\n",
    "        \n",
    "        if verbose:\n",
    "            print(\"iter# = \"+ str(i) + \", ||x_new - x_star||_2 = \" + str(la.norm(x_new - x_star, 2)) + \", f(x_new) = \" + str(f(x_new)))\n",
    "    \n",
    "    print(\"Number of steps:\", len(f_list))\n",
    "    return x_new, x_list, f_list"
   ]
  },
  {
   "cell_type": "code",
   "execution_count": null,
   "metadata": {},
   "outputs": [],
   "source": [
    "# Run algorithm\n",
    "epsilon = 1e-6                # Precision parameter\n",
    "iters = 100\n",
    "eta = 0.1\n",
    "x_init = np.random.randn(2)    # Initial estimate\n",
    "print(x_init)\n",
    "x_init[0] = -3\n",
    "x_init[1] = 3\n",
    "#print(x_init)\n",
    "x_star = [0, 0]\n",
    "        \n",
    "x_GD, x_list, f_list = GD_Griewank(x_init, eta, iters, epsilon, True, x_star)\n",
    "\n",
    "# Plot\n",
    "plt.rc('text', usetex=True)\n",
    "plt.rc('font', family='serif')\n",
    "\n",
    "xs = range(len(x_list))\n",
    "plt.plot(xs, x_list, '-o', color = '#3399FF', linewidth = 4, alpha = 0.7, markerfacecolor = 'b')\n",
    "plt.yscale('log')\n",
    "plt.xlabel('Iterations')\n",
    "plt.ylabel(r\"$\\|x^\\star - \\widehat{x}\\|_2$\")\n",
    "\n",
    "# Make room for the ridiculously large title.\n",
    "plt.subplots_adjust(top=0.8)\n",
    "plt.show()"
   ]
  },
  {
   "cell_type": "markdown",
   "metadata": {},
   "source": [
    "### Non-convex Lipschitz continuous gradient function"
   ]
  },
  {
   "cell_type": "markdown",
   "metadata": {},
   "source": [
    "\\begin{align}\n",
    "  f(x) = x^2 + 3\\sin^2(x)\n",
    "\\end{align}\n",
    "\n",
    "Then, its gradient and Hessian are calculated as:\n",
    "\\begin{align}\n",
    "f'(x) = 2x + 6\\sin(x) \\cdot \\cos(x), ~~f''(x) = 2 + 6\\cos^2(x) - 6\\sin^2(x)\n",
    "\\end{align}\n"
   ]
  },
  {
   "cell_type": "code",
   "execution_count": null,
   "metadata": {},
   "outputs": [],
   "source": [
    "fig = plt.figure()\n",
    "ax = fig.add_subplot(111)\n",
    "\n",
    "# Make data.\n",
    "x = np.arange(-5, 5, 0.25)\n",
    "f = x**2 + 3*(np.sin(x))**2\n",
    "\n",
    "ax.plot(x, f, color='green', marker='o', linestyle='dashed', linewidth=2, markersize=2)"
   ]
  },
  {
   "cell_type": "code",
   "execution_count": null,
   "metadata": {},
   "outputs": [],
   "source": [
    "fig = plt.figure()\n",
    "ax = fig.add_subplot(111)\n",
    "\n",
    "# Make data.\n",
    "x = np.arange(-5, 5, 0.25)\n",
    "hessian_f = 2 + 6*(np.cos(x))**2 - 6*(np.sin(x))**2\n",
    "\n",
    "ax.plot(x, hessian_f, color='green', marker='o', linestyle='dashed', linewidth=2, markersize=2)"
   ]
  },
  {
   "cell_type": "markdown",
   "metadata": {},
   "source": [
    "Which means that we can upper bound:\n",
    "\\begin{align}\n",
    "\\|\\nabla^2 f(x)\\|_2 \\leq 8 := L\n",
    "\\end{align}\n"
   ]
  }
 ],
 "metadata": {
  "kernelspec": {
   "display_name": "Python 3",
   "language": "python",
   "name": "python3"
  },
  "language_info": {
   "codemirror_mode": {
    "name": "ipython",
    "version": 3
   },
   "file_extension": ".py",
   "mimetype": "text/x-python",
   "name": "python",
   "nbconvert_exporter": "python",
   "pygments_lexer": "ipython3",
   "version": "3.6.5"
  }
 },
 "nbformat": 4,
 "nbformat_minor": 2
}
