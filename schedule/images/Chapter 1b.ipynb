{
 "cells": [
  {
   "cell_type": "markdown",
   "metadata": {
    "slideshow": {
     "slide_type": "slide"
    }
   },
   "source": [
    "# A toy example"
   ]
  },
  {
   "cell_type": "markdown",
   "metadata": {
    "slideshow": {
     "slide_type": "slide"
    }
   },
   "source": [
    "**Purpose of this demo**: Motivate that abstract notions, such as sparse projection, are useful in practice.\n",
    "\n",
    "+ Disclaimer: I'm not expert in Python - I use Python/Matlab as tools to validate algorithms and theorems. \n",
    "+ Thus, my implementations are not the most efficient ones + there might be bugs"
   ]
  },
  {
   "cell_type": "markdown",
   "metadata": {
    "slideshow": {
     "slide_type": "slide"
    }
   },
   "source": [
    "**Problem definition: Linear regression**. \n",
    "\n",
    "\\begin{align}\n",
    "  y = A x^\\star + w\n",
    "\\end{align}\n",
    "\n",
    "+ $A \\in \\mathbb{R}^{n \\times p}$\n",
    "+ $x^\\star \\in \\mathbb{R}^p$ \n",
    "+ $w \\in \\mathbb{R}^n$\n",
    "\n",
    "Assume $n = p$, and $A$ is in general position.\n",
    "Given $y$ and $A$:\n",
    "\n",
    "\\begin{equation*}\n",
    "\\begin{aligned}\n",
    "& \\underset{x \\in \\mathbb{R}^p}{\\text{min}}\n",
    "& & f(x) \\triangleq \\|y - A x\\|_2^2\n",
    "\\end{aligned}\n",
    "\\end{equation*}"
   ]
  },
  {
   "cell_type": "code",
   "execution_count": null,
   "metadata": {
    "slideshow": {
     "slide_type": "slide"
    }
   },
   "outputs": [],
   "source": [
    "%matplotlib inline\n",
    "\n",
    "import warnings\n",
    "warnings.filterwarnings('ignore')\n",
    "\n",
    "import numpy as np\n",
    "import scipy as sp\n",
    "import matplotlib.pyplot as plt\n",
    "import random\n",
    "from scipy import stats\n",
    "from scipy.optimize import fmin\n",
    "\n",
    "from matplotlib import rc\n",
    "#rc('font',**{'family':'sans-serif','sans-serif':['Helvetica']})\n",
    "## for Palatino and other serif fonts use:\n",
    "rc('font',**{'family':'serif','serif':['Palatino']})\n",
    "rc('text', usetex=True)\n",
    "\n",
    "from PIL import Image\n",
    "\n",
    "import random\n",
    "from numpy import linalg as la\n",
    "\n",
    "p = 100  # Ambient dimension\n",
    "n = 100  # Number of samples\n",
    "\n",
    "# Generate a p-dimensional zero vector\n",
    "x_star = np.random.randn(p)\n",
    "# Normalize\n",
    "x_star = (1 / la.norm(x_star, 2)) * x_star"
   ]
  },
  {
   "cell_type": "code",
   "execution_count": null,
   "metadata": {
    "slideshow": {
     "slide_type": "slide"
    }
   },
   "outputs": [],
   "source": [
    "# Plot\n",
    "xs = range(p)\n",
    "markerline, stemlines, baseline = plt.stem(xs, x_star, '-.')\n",
    "plt.setp(markerline, 'alpha', 0.3, 'ms', 6)\n",
    "plt.setp(markerline, 'markerfacecolor', 'b')\n",
    "plt.setp(baseline, 'color', 'r', 'linewidth', 1, 'alpha', 0.3)\n",
    "plt.rc('text', usetex=True)\n",
    "#plt.rc('font', family='serif')\n",
    "plt.xlabel('Index')\n",
    "plt.ylabel('Amplitude')\n",
    "plt.show()"
   ]
  },
  {
   "cell_type": "markdown",
   "metadata": {
    "slideshow": {
     "slide_type": "slide"
    }
   },
   "source": [
    "<center> How would you solve this problem? </center>"
   ]
  },
  {
   "cell_type": "markdown",
   "metadata": {
    "slideshow": {
     "slide_type": "slide"
    }
   },
   "source": [
    "<center>Closed form solution using matrix inverse</center>\n",
    "\n",
    "\\begin{align}\n",
    "\\widehat{x} = A^{-1} y\n",
    "\\end{align}"
   ]
  },
  {
   "cell_type": "code",
   "execution_count": null,
   "metadata": {
    "slideshow": {
     "slide_type": "slide"
    }
   },
   "outputs": [],
   "source": [
    "A = np.random.randn(n, p)\n",
    "y = A.dot(x_star)\n",
    "\n",
    "A_inv = la.inv(A)\n",
    "widehat_x = A_inv.dot(y)\n",
    "# Plot\n",
    "xs = range(p)\n",
    "markerline, stemlines, baseline = plt.stem(xs, widehat_x, '-.')\n",
    "plt.setp(markerline, 'alpha', 0.3, 'ms', 6)\n",
    "plt.setp(markerline, 'markerfacecolor', 'b')\n",
    "plt.setp(baseline, 'color', 'r', 'linewidth', 1, 'alpha', 0.3)\n",
    "plt.xlabel('Index')\n",
    "plt.ylabel('Amplitude')\n",
    "plt.show()\n",
    "\n",
    "print('\\|x^\\star - x\\|_2 = {0}'.format(la.norm(x_star - widehat_x)))"
   ]
  },
  {
   "cell_type": "markdown",
   "metadata": {
    "slideshow": {
     "slide_type": "slide"
    }
   },
   "source": [
    "**Problem definition: Sparse linear regression**. \n",
    "\n",
    "\\begin{align}\n",
    "  y = A x^\\star + w\n",
    "\\end{align}\n",
    "\n",
    "+ $A \\in \\mathbb{R}^{n \\times p}$, but now $n \\ll p$\n",
    "+ $x^\\star \\in \\mathbb{R}^p$ but $k$-sparse, where $k \\ll p$\n",
    "+ $w \\in \\mathbb{R}^n$\n",
    "\n",
    "Assume $n = p$, and $A$ is in general position.\n",
    "Given $y$ and $A$:\n",
    "\n",
    "\\begin{equation*}\n",
    "\\begin{aligned}\n",
    "& \\underset{x \\in \\mathbb{R}^p}{\\text{min}}\n",
    "& & f(x) \\triangleq \\|y - A x\\|_2^2\n",
    "\\end{aligned}\n",
    "\\end{equation*}\n",
    "\n",
    "<center> Would a similar technique solve the problem? </center>"
   ]
  },
  {
   "cell_type": "code",
   "execution_count": null,
   "metadata": {
    "slideshow": {
     "slide_type": "slide"
    }
   },
   "outputs": [],
   "source": [
    "p = 100  # Ambient dimension\n",
    "n = 40   # Number of samples\n",
    "k = 5    # Sparsity level\n",
    "\n",
    "# Generate a p-dimensional zero vector\n",
    "x_star = np.zeros(p)\n",
    "# Randomly sample k indices in the range [1:p]\n",
    "x_star_ind = random.sample(range(p),  k) \n",
    "# Set x_star_ind with k random elements from Gaussian distribution\n",
    "x_star[x_star_ind] = np.random.randn(k)\n",
    "# Normalize\n",
    "x_star = (1 / la.norm(x_star, 2)) * x_star\n",
    "\n",
    "# Plot\n",
    "xs = range(p)\n",
    "markerline, stemlines, baseline = plt.stem(xs, x_star, '-.')\n",
    "plt.setp(markerline, 'alpha', 0.3, 'ms', 6)\n",
    "plt.setp(markerline, 'markerfacecolor', 'b')\n",
    "plt.setp(baseline, 'color', 'r', 'linewidth', 1, 'alpha', 0.3)\n",
    "plt.xlabel('Index')\n",
    "plt.ylabel('Amplitude')\n",
    "plt.show()"
   ]
  },
  {
   "cell_type": "markdown",
   "metadata": {
    "slideshow": {
     "slide_type": "slide"
    }
   },
   "source": [
    "We will use the pseudo-inverse of $A$:\n",
    "\n",
    "\\begin{align}\n",
    "A^\\dagger = A^\\top (AA^\\top)^{-1}\n",
    "\\end{align}"
   ]
  },
  {
   "cell_type": "code",
   "execution_count": null,
   "metadata": {
    "slideshow": {
     "slide_type": "slide"
    }
   },
   "outputs": [],
   "source": [
    "A = np.random.randn(n, p)\n",
    "y = A.dot(x_star)\n",
    "\n",
    "A_inv = la.pinv(A)\n",
    "widehat_x = A_inv.dot(y)\n",
    "# Plot\n",
    "xs = range(p)\n",
    "markerline, stemlines, baseline = plt.stem(xs, widehat_x, '-.')\n",
    "plt.setp(markerline, 'alpha', 0.3, 'ms', 6)\n",
    "plt.setp(markerline, 'markerfacecolor', 'b')\n",
    "plt.setp(baseline, 'color', 'r', 'linewidth', 1, 'alpha', 0.3)\n",
    "plt.xlabel('Index')\n",
    "plt.ylabel('Amplitude')\n",
    "plt.show()\n",
    "\n",
    "la.norm(x_star - widehat_x)"
   ]
  },
  {
   "cell_type": "markdown",
   "metadata": {
    "slideshow": {
     "slide_type": "slide"
    }
   },
   "source": [
    "+ The reconstruction of $x^\\star$ from $y$ is an ill-posed problem since $n < p$ and there is no hope in finding the *true vector* without ambiguity.\n",
    "+ Additional prior information is needed. \n",
    "+ We might want to use the fact that $\\|x\\|_0 \\leq k$ where $k \\ll p$ and $\\|\\cdot\\|_0$ is the $\\ell_0$-\"norm\".\n",
    "+ It turns out that, under proper assumptions on the sensing matrix $A$ and the sparsity level $k$, one can still recover $x^\\star$! "
   ]
  },
  {
   "cell_type": "markdown",
   "metadata": {
    "slideshow": {
     "slide_type": "slide"
    }
   },
   "source": [
    "### Why sparsity?\n",
    "\n",
    "Let us consider the following practical case: image processing. "
   ]
  },
  {
   "cell_type": "code",
   "execution_count": null,
   "metadata": {
    "slideshow": {
     "slide_type": "slide"
    }
   },
   "outputs": [],
   "source": [
    "%matplotlib inline\n",
    "import numpy as np\n",
    "import scipy as sp\n",
    "import matplotlib.pyplot as plt\n",
    "import random\n",
    "from scipy import stats\n",
    "from scipy.optimize import fmin\n",
    "\n",
    "from PIL import Image\n",
    "\n",
    "# Open image using Image package\n",
    "x_mush_orig = Image.open(\"./SupportFiles/mushroom.png\").convert(\"L\")\n",
    "# Transform to a np array\n",
    "x_mush_star = np.fromstring(x_mush_orig.tobytes(), np.uint8)\n",
    "# Set the shape of np array\n",
    "x_mush_star.shape = (x_mush_orig.size[1], x_mush_orig.size[0])\n",
    "# Show the image\n",
    "plt.imshow(x_mush_star, interpolation = \"nearest\", cmap = plt.cm.gray)"
   ]
  },
  {
   "cell_type": "markdown",
   "metadata": {
    "slideshow": {
     "slide_type": "skip"
    }
   },
   "source": [
    "Obviously, this is a simple image case: the \"mushroom\" image is sparse by itself (do you see the black pixels? Yes, they are zeros). To see this more clearly, let's sort the true coeffients in decreasing order."
   ]
  },
  {
   "cell_type": "code",
   "execution_count": null,
   "metadata": {
    "scrolled": true,
    "slideshow": {
     "slide_type": "slide"
    }
   },
   "outputs": [],
   "source": [
    "from bokeh.plotting import figure, show, output_file\n",
    "from bokeh.palettes import brewer\n",
    "\n",
    "# Get the absolute value of a flatten array (vectorize)\n",
    "x_mush_abs = abs(x_mush_star.flatten()) \n",
    "# Sort the absolute values (ascending order)\n",
    "x_mush_abs.sort()\n",
    "# Descending order\n",
    "x_mush_abs_sort = np.array(x_mush_abs[::-1])\n",
    "\n",
    "plt.style.use('bmh')\n",
    "fig, ax = plt.subplots()\n",
    "# Generate an array with elements 1:len(...)\n",
    "xs = np.arange(len(x_mush_abs_sort))\n",
    "# Fill plot - alpha is transparency (might take some time to plot)\n",
    "ax.fill_between(xs, 0, x_mush_abs_sort, alpha = 0.2)\n",
    "# Plot - alpha is transparency (might take some time to plot)\n",
    "ax.plot(xs, x_mush_abs_sort, alpha = 0.8)\n",
    "plt.show()"
   ]
  },
  {
   "cell_type": "markdown",
   "metadata": {
    "slideshow": {
     "slide_type": "skip"
    }
   },
   "source": [
    "For this 64 x 64 image, the total number of pixels sums up to 4096. As you can observe, by default almost half of the pixels are zero, which constitutes \"mushroom\" image sparse (but still the sparsity level is quite high: more than half the ambient dimension).\n",
    "\n",
    "Since this seems to be a \"cooked\"-up example, let us consider a more *realistic* scenario: a brick house. (*Does anyone know where is this house?*)"
   ]
  },
  {
   "cell_type": "code",
   "execution_count": null,
   "metadata": {},
   "outputs": [],
   "source": [
    "x_house_orig = Image.open(\"./SupportFiles/house128.png\").convert(\"L\")\n",
    "x_house_star = np.fromstring(x_house_orig.tobytes(), np.uint8)\n",
    "x_house_star.shape = (x_house_orig.size[1], x_house_orig.size[0])\n",
    "plt.imshow(x_house_star, interpolation = \"nearest\", cmap = plt.cm.gray)"
   ]
  },
  {
   "cell_type": "markdown",
   "metadata": {
    "slideshow": {
     "slide_type": "skip"
    }
   },
   "source": [
    "...and here is the bar plot of the coefficients."
   ]
  },
  {
   "cell_type": "code",
   "execution_count": null,
   "metadata": {},
   "outputs": [],
   "source": [
    "x_house_abs = abs(x_house_star.flatten()) \n",
    "x_house_abs.sort()\n",
    "x_house_abs_sort = np.array(x_house_abs[::-1])\n",
    "\n",
    "plt.style.use('bmh')\n",
    "fig, ax = plt.subplots()\n",
    "xs = np.arange(len(x_house_abs_sort))\n",
    "ax.fill_between(xs, 0, x_house_abs_sort, alpha = 0.2)\n",
    "plt.plot(xs, x_house_abs_sort, alpha=0.8)\n",
    "plt.show()"
   ]
  },
  {
   "cell_type": "markdown",
   "metadata": {
    "slideshow": {
     "slide_type": "slide"
    }
   },
   "source": [
    "+ All the coefficients are non-zero! Is there anything we can do in this case?\n",
    "\n",
    "+ However: under proper orthonormal transformations, natural images become sparse. "
   ]
  },
  {
   "cell_type": "code",
   "execution_count": null,
   "metadata": {
    "slideshow": {
     "slide_type": "slide"
    }
   },
   "outputs": [],
   "source": [
    "import pywt\n",
    "\n",
    "x_house_orig = Image.open(\"./SupportFiles/house.png\").convert(\"L\")\n",
    "x_house_star = np.fromstring(x_house_orig.tobytes(), np.uint8)\n",
    "x_house_star.shape = (x_house_orig.size[1], x_house_orig.size[0])\n",
    "\n",
    "# Defines a wavelet object - 'db1' defines a Daubechies wavelet\n",
    "wavelet = pywt.Wavelet('db1')\n",
    "\n",
    "# Multilevel decomposition of the input matrix\n",
    "coeffs = pywt.wavedec2(x_house_star, wavelet, level=2)\n",
    "cA2, (cH2, cV2, cD2), (cH1, cV1, cD1) = coeffs\n",
    "\n",
    "# Concatenate the level-2 submatrices into a big one and plot\n",
    "x_house_star_wav = np.bmat([[cA2, cH2], [cV2, cD2]])\n",
    "plt.imshow(np.flipud(x_house_star_wav), origin='image', interpolation=\"nearest\", cmap=plt.cm.gray)\n",
    "plt.title(\"Wavelet representation of image\", fontsize=10)\n",
    "plt.tight_layout()"
   ]
  },
  {
   "cell_type": "markdown",
   "metadata": {
    "slideshow": {
     "slide_type": "skip"
    }
   },
   "source": [
    "After wavelet transformation, let's plot the wavelet coefficients. "
   ]
  },
  {
   "cell_type": "code",
   "execution_count": null,
   "metadata": {
    "scrolled": true,
    "slideshow": {
     "slide_type": "slide"
    }
   },
   "outputs": [],
   "source": [
    "# Flatten and show the histogram\n",
    "x_house_abs_wav = abs(x_house_star_wav.flatten()) \n",
    "x_house_abs_wav.sort()\n",
    "x_house_abs_wav.flatten()\n",
    "x_house_abs_wav_sort = np.array(x_house_abs_wav[::-1])\n",
    "\n",
    "plt.style.use('bmh')\n",
    "fig, ax = plt.subplots()\n",
    "xs = np.arange(len(x_house_abs_wav_sort.flatten()))\n",
    "\n",
    "ax.fill_between(xs, 0, np.flipud(x_house_abs_wav_sort.flatten()), alpha = 0.2)\n",
    "plt.plot(xs, np.flipud(x_house_abs_wav_sort.transpose()), alpha = 0.8)\n",
    "plt.show()"
   ]
  },
  {
   "cell_type": "markdown",
   "metadata": {
    "slideshow": {
     "slide_type": "skip"
    }
   },
   "source": [
    "It is obvious that much less number of coefficients are non-zero! (...and this holds generally for naturally images.)"
   ]
  },
  {
   "cell_type": "code",
   "execution_count": null,
   "metadata": {
    "scrolled": true,
    "slideshow": {
     "slide_type": "fragment"
    }
   },
   "outputs": [],
   "source": [
    "from mpl_toolkits.mplot3d import Axes3D\n",
    "import matplotlib.cm as cm\n",
    "\n",
    "fig = plt.figure()\n",
    "ax = fig.add_subplot(111, projection = '3d')\n",
    "for c, z, zi in zip(['r', 'g', 'b', 'y'], ['./SupportFiles/house128.png', './SupportFiles/peppers128.png', './SupportFiles/man128.png', './SupportFiles/pedro128.png'], [4, 3, 2, 1]):\n",
    "    y = Image.open(z).convert(\"L\")\n",
    "    y_star = np.fromstring(y.tobytes(), np.uint8)\n",
    "    y_star.shape = (y.size[1], y.size[0])\n",
    "\n",
    "    # Multilevel decomposition of the input matrix\n",
    "    y_coeffs = pywt.wavedec2(y_star, wavelet, level=2)\n",
    "    y_cA2, (y_cH2, y_cV2, y_cD2), (y_cH1, y_cV1, y_cD1) = y_coeffs\n",
    "\n",
    "    # Concatenate the level-2 submatrices into a big one and plot\n",
    "    y_star_wav = np.bmat([[y_cA2, y_cH2], [y_cV2, y_cD2]])\n",
    "\n",
    "    y_abs_wav = abs(y_star_wav.flatten()) \n",
    "    y_abs_wav.sort()\n",
    "    y_abs_wav.flatten()\n",
    "    y_abs_wav_sort = np.array(y_abs_wav[::-1])\n",
    "\n",
    "    xs = np.arange(len(y_abs_wav_sort.flatten()))\n",
    "    cs = c    \n",
    "    ys = [zi] * len(xs)\n",
    "    ys = np.array(ys)\n",
    "    \n",
    "    ax.plot(xs, ys = ys.flatten(), zs = np.flipud(y_abs_wav_sort.flatten()), zdir = 'z', color = cs, alpha = 0.5)\n",
    "            \n",
    "ax.set_xlabel('X axis')\n",
    "ax.set_ylabel('Y axis')\n",
    "ax.set_zlabel('Z axis')\n",
    "plt.show\n",
    "\n"
   ]
  },
  {
   "cell_type": "markdown",
   "metadata": {
    "slideshow": {
     "slide_type": "skip"
    }
   },
   "source": [
    "In the above picture, the y values (1.0 to 4.0) correspond to four different image cases (for chanity check, observe that the red curve is the same curve for the house.png case, presented above). \n",
    "\n",
    "One can observe that most of the coeffs are close to zero and only few of them (compared to the ambient dimension) are significantly large. This has led to the observation that keeping only the most important coefficients (even truncating the non-zero entries further) leads to a significant compression of the image. At the same time, only these coefficients can lead to a pretty good reconstruction of the original image. "
   ]
  },
  {
   "cell_type": "markdown",
   "metadata": {
    "slideshow": {
     "slide_type": "slide"
    }
   },
   "source": [
    "### Using sparse projections"
   ]
  },
  {
   "cell_type": "code",
   "execution_count": null,
   "metadata": {
    "slideshow": {
     "slide_type": "skip"
    }
   },
   "outputs": [],
   "source": [
    "import math\n",
    "\n",
    "# Generate sensing matrix\n",
    "A = (1 / math.sqrt(n)) * np.random.randn(n, p)\n",
    "\n",
    "# Observation model\n",
    "y = A @ x_star"
   ]
  },
  {
   "cell_type": "markdown",
   "metadata": {
    "slideshow": {
     "slide_type": "slide"
    }
   },
   "source": [
    "**Gradient descent with sparse projections[7-8]**. Solve the criterion\n",
    "\\begin{align}\n",
    "    \\min_{x} ~ ~f(x) := \\frac{1}{2}\\|y - Ax\\|_2^2 \\quad \\text{s.t.} \\quad \\|x\\|_0 \\leq k\n",
    "\\end{align} \n",
    "\n",
    "&nbsp;&nbsp;&nbsp;    &nbsp; &nbsp; &nbsp; *The IHT method* <br>\n",
    "&nbsp;&nbsp;&nbsp;    1: &nbsp; Choose initial guess $x_0$ <br>\n",
    "&nbsp;&nbsp;&nbsp;    2: &nbsp; <b>for</b> i = 0, 1, 2, ... <b>do</b> <br>\n",
    "&nbsp;&nbsp;&nbsp;    3:   &nbsp;&nbsp;&nbsp;&nbsp;&nbsp; Compuete $\\nabla f(x_i) = -A^\\top \\cdot (y - A x_i)$ <br>\n",
    "&nbsp;&nbsp;&nbsp;    4:   &nbsp;&nbsp;&nbsp;&nbsp;&nbsp; $\\widehat{x}_{i+1} = x_i - \\nabla f(x_i)$ <br>\n",
    "&nbsp;&nbsp;&nbsp;    5:   &nbsp;&nbsp;&nbsp;&nbsp;&nbsp; $x_{i+1} = \\arg \\min_{x \\text{ is } k-\\text{sparse}} \\|\\widehat{x}_{i+1} - x\\|_2$ <br>\n",
    "&nbsp;&nbsp;&nbsp;    5: &nbsp;  <b>end for</b>\n",
    "\n",
    "Let's use this algorithm and see how it performs in practice.\n"
   ]
  },
  {
   "cell_type": "code",
   "execution_count": null,
   "metadata": {
    "slideshow": {
     "slide_type": "slide"
    }
   },
   "outputs": [],
   "source": [
    "from numpy import linalg as la\n",
    "\n",
    "# Hard thresholding function\n",
    "def hardThreshold(x, k):\n",
    "    p = x.shape[0]\n",
    "    t = np.sort(np.abs(x))[::-1]    \n",
    "    threshold = t[k-1]\n",
    "    j = (np.abs(x) < threshold)\n",
    "    x[j] = 0\n",
    "    return x\n",
    "\n",
    "# Returns the value of the objecive function\n",
    "def f(y, A, x):\n",
    "    return 0.5 * math.pow(la.norm(y - A @ x, 2), 2)"
   ]
  },
  {
   "cell_type": "code",
   "execution_count": null,
   "metadata": {
    "slideshow": {
     "slide_type": "slide"
    }
   },
   "outputs": [],
   "source": [
    "def IHT(y, A, k, iters, epsilon, verbose, x_star):\n",
    "    p = A.shape[1]   # Length of original signal    \n",
    "    n = A.shape[0]   # Length of measurement vector\n",
    "    \n",
    "    x_new = np.zeros(p)    # Initial estimate    \n",
    "    At = np.transpose(A)   # Transpose of A\n",
    "\n",
    "    x_list, f_list = [1], [f(y, A, x_new)]\n",
    "\n",
    "    for i in range(iters):\n",
    "        x_old = x_new\n",
    "    \n",
    "        # Compute gradient\n",
    "        grad = -At @ (y - A @ x_new)\n",
    "    \n",
    "        # Perform gradient step\n",
    "        x_temp = x_old - 0.5 * grad    \n",
    "    \n",
    "        # Perform hard thresholding step\n",
    "        x_new = hardThreshold(x_temp, k)\n",
    "    \n",
    "        if (la.norm(x_new - x_old, 2) / la.norm(x_new, 2)) < epsilon:\n",
    "            break\n",
    "                \n",
    "        # Keep track of solutions and objective values\n",
    "        x_list.append(la.norm(x_new - x_star, 2))\n",
    "        f_list.append(f(y, A, x_new))\n",
    "        \n",
    "        if verbose:\n",
    "            print(\"iter# = \"+ str(i) + \", ||x_new - x_old||_2 = \" + str(la.norm(x_new - x_old, 2)))\n",
    "    \n",
    "    print(\"Number of steps:\", len(f_list))\n",
    "    return x_new, x_list, f_list\n",
    "    "
   ]
  },
  {
   "cell_type": "code",
   "execution_count": null,
   "metadata": {
    "slideshow": {
     "slide_type": "slide"
    }
   },
   "outputs": [],
   "source": [
    "# Run algorithm\n",
    "epsilon = 1e-6                # Precision parameter\n",
    "iters = 100\n",
    "\n",
    "x_IHT, x_list, f_list = IHT(y, A, k, iters, epsilon, True, x_star)\n",
    "\n",
    "# Plot\n",
    "plt.rc('text', usetex=True)\n",
    "plt.rc('font', family='serif')\n",
    "\n",
    "xs = range(p)\n",
    "markerline, stemlines, baseline = plt.stem(xs, x_IHT, '-.x')\n",
    "plt.setp(markerline, 'alpha', 0.3, 'ms', 6)\n",
    "plt.setp(markerline, 'markerfacecolor', 'b')\n",
    "plt.setp(baseline, 'linewidth', 1, 'alpha', 0.3)\n",
    "plt.xlabel('Index')\n",
    "plt.ylabel('Amplitude')\n",
    "#plt.title(r\"$\\|x^\\star - \\widehat{x}\\|_2 = %s$\" %(la.norm(x_star - x_IHT, 2)), fontsize=16)\n",
    "\n",
    "# Make room for the ridiculously large title.\n",
    "plt.subplots_adjust(top=0.8)\n",
    "plt.show()"
   ]
  },
  {
   "cell_type": "markdown",
   "metadata": {
    "slideshow": {
     "slide_type": "slide"
    }
   },
   "source": [
    "This is great! IHT finds $\\mathbf{x}^\\star$ fast and 'accurately'. How fast? Let's create a convergence plot."
   ]
  },
  {
   "cell_type": "code",
   "execution_count": null,
   "metadata": {
    "slideshow": {
     "slide_type": "slide"
    }
   },
   "outputs": [],
   "source": [
    "# Plot\n",
    "plt.rc('text', usetex=True)\n",
    "plt.rc('font', family='serif')\n",
    "\n",
    "xs = range(len(x_list))\n",
    "plt.plot(xs, x_list, '-o', color = '#3399FF', linewidth = 4, alpha = 0.7, markerfacecolor = 'b')\n",
    "plt.yscale('log')\n",
    "plt.xlabel('Iterations')\n",
    "plt.ylabel(r\"$\\|x^\\star - \\widehat{x}\\|_2$\")\n",
    "\n",
    "# Make room for the ridiculously large title.\n",
    "plt.subplots_adjust(top=0.8)\n",
    "plt.show()"
   ]
  },
  {
   "cell_type": "code",
   "execution_count": null,
   "metadata": {},
   "outputs": [],
   "source": []
  }
 ],
 "metadata": {
  "celltoolbar": "Slideshow",
  "kernelspec": {
   "display_name": "Python 3",
   "language": "python",
   "name": "python3"
  },
  "language_info": {
   "codemirror_mode": {
    "name": "ipython",
    "version": 3
   },
   "file_extension": ".py",
   "mimetype": "text/x-python",
   "name": "python",
   "nbconvert_exporter": "python",
   "pygments_lexer": "ipython3",
   "version": "3.7.4"
  }
 },
 "nbformat": 4,
 "nbformat_minor": 1
}
