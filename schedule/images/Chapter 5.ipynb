{
 "cells": [
  {
   "cell_type": "code",
   "execution_count": 19,
   "metadata": {},
   "outputs": [],
   "source": [
    "%matplotlib inline\n",
    "\n",
    "import numpy as np\n",
    "import matplotlib\n",
    "import matplotlib.pyplot as plt\n",
    "import sklearn.linear_model as linear_model\n",
    "\n",
    "np.random.seed(1337)\n",
    "from timeit import timeit\n",
    "\n",
    "import matplotlib\n",
    "import matplotlib.pyplot as plt\n",
    "\n",
    "kwargs = {'linewidth' : 3.5}\n",
    "font = {'weight' : 'normal', 'size'   : 24}\n",
    "\n",
    "\n",
    "def error_plot(ys, yscale='log'):\n",
    "    plt.figure(figsize=(8, 8))\n",
    "    plt.xlabel('Step')\n",
    "    plt.ylabel('Error')\n",
    "    plt.yscale(yscale)\n",
    "    plt.plot(range(len(ys)), ys, **kwargs)\n",
    "\n",
    "def error_plot3(ys1, ys2, ys3, yscale='log'):\n",
    "    plt.figure(figsize=(8, 8))\n",
    "    plt.xlabel('Step')\n",
    "    plt.ylabel('Error')\n",
    "    plt.yscale(yscale)\n",
    "    plt.plot(range(len(ys1)), ys1, **kwargs, label='GD')\n",
    "    plt.plot(range(len(ys2)), ys2, **kwargs, label='Newton')\n",
    "    plt.plot(range(len(ys3)), ys3, **kwargs, label='BFGS')\n",
    "    plt.legend()\n",
    "\n",
    "def error_plot2(ys1, ys2, yscale='log'):\n",
    "    plt.figure(figsize=(8, 8))\n",
    "    plt.xlabel('Step')\n",
    "    plt.ylabel('Error')\n",
    "    plt.yscale(yscale)\n",
    "    plt.plot(range(len(ys1)), ys1, **kwargs, label='GD')\n",
    "    plt.plot(range(len(ys2)), ys2, **kwargs, label='Newton')\n",
    "    plt.legend()\n",
    "\n",
    "def convergence_plot(fs, gs):\n",
    "    plt.figure(figsize=(14,6))\n",
    "    plt.subplot(121)\n",
    "    plt.title('Convergence in objective')    \n",
    "    plt.xlabel('Step')\n",
    "    plt.ylabel('Error')\n",
    "    plt.yscale('log')\n",
    "    plt.plot(range(len(fs)), fs, **kwargs)\n",
    "    plt.subplot(122)\n",
    "    plt.title('Convergence in domain')    \n",
    "    plt.xlabel('Step')\n",
    "    plt.yscale('log')\n",
    "    plt.plot(range(len(gs)), gs, **kwargs)\n",
    "    plt.tight_layout()\n",
    "\n",
    "\n",
    "def setup_layout():\n",
    "    display(HTML(open('custom.html').read()))\n",
    "    matplotlib.rc('font', **font)\n",
    "\n",
    "    "
   ]
  },
  {
   "cell_type": "markdown",
   "metadata": {},
   "source": [
    "### Solving linear regression with Newton's method"
   ]
  },
  {
   "cell_type": "markdown",
   "metadata": {},
   "source": [
    "**Purpose of this demo**: Motivate alternatives of gradient descent\n",
    "\n",
    "+ Disclaimer: I'm not expert in Python - I use Python/Matlab as tools to validate algorithms and theorems. \n",
    "+ Thus, my implementations are not the most efficient ones + there might be bugs"
   ]
  },
  {
   "cell_type": "markdown",
   "metadata": {},
   "source": [
    "**Problem definition: Linear regression**. \n",
    "\n",
    "\\begin{align}\n",
    "  y = A x^\\star\n",
    "\\end{align}\n",
    "\n",
    "+ $A \\in \\mathbb{R}^{n \\times n}$\n",
    "+ $x^\\star \\in \\mathbb{R}^n$\n",
    "\n",
    "Assume $A$ is in general position.\n",
    "Given $y$ and $A$:\n",
    "\n",
    "\\begin{equation*}\n",
    "\\begin{aligned}\n",
    "& \\underset{x \\in \\mathbb{R}^p}{\\text{min}}\n",
    "& & f(x) \\triangleq \\|y - A x\\|_2^2 \\\\\n",
    "\\end{aligned}\n",
    "\\end{equation*}\n",
    "\n",
    "+ We want to solve this problem with Newton's method\n",
    "\n",
    "\\begin{align}\n",
    "x_{t+1} = x_t - \\eta \\left(\\nabla^2 f(x_t) \\right)^{-1} \\nabla f(x_t)\n",
    "\\end{align}"
   ]
  },
  {
   "cell_type": "markdown",
   "metadata": {},
   "source": [
    "+ What is the gradient and Hessian of this function?\n",
    "\n",
    "\\begin{align}\n",
    "\\nabla f(x) = -A^\\top \\left(y - Ax\\right) \\in \\mathbb{R}^n\n",
    "\\end{align}\n",
    "\n",
    "and\n",
    "\\begin{align}\n",
    "\\nabla^2 f(x) = A^\\top A \\in \\mathbb{R}^{n \\times n}\n",
    "\\end{align}\n",
    "\n",
    "+ Assuming that $A$ is in general position, $A^\\top A$ is full rank"
   ]
  },
  {
   "cell_type": "markdown",
   "metadata": {},
   "source": [
    "+ Let us use the above in Newton's iteration\n",
    "+ Assuming $x_0$ is zero (initial point), and the step size is $\\eta = 1$, then\n",
    "\n",
    "\\begin{align}\n",
    "x_1 = x_0 - \\left(\\nabla^2 f(x_0) \\right)^{-1} \\nabla f(x_0) = - (A^\\top A)^{-1} (- A^\\top y) = (A^\\top A)^{-1} A^\\top y\n",
    "\\end{align}\n",
    "\n",
    "+ Does this solution ring a bell?"
   ]
  },
  {
   "cell_type": "markdown",
   "metadata": {},
   "source": [
    "#### Questions on Newton's method for linear regression\n",
    "\n",
    "+ What about underdetermined linear systems?\n",
    "+ What is the complexity of running Newton's method in well-conditioned linear systems?\n",
    "\n",
    "\\begin{align}\n",
    "O\\left( \\log \\frac{1}{\\varepsilon} \\cdot n^2 \\right) \\quad \\quad \\text{vs} \\quad \\quad O \\left(n^3\\right)\n",
    "\\end{align}"
   ]
  },
  {
   "cell_type": "markdown",
   "metadata": {},
   "source": [
    "### Logistic regression with quasi-Newton methods"
   ]
  },
  {
   "cell_type": "markdown",
   "metadata": {},
   "source": [
    "We will solve the logistic regression problem using second-order and quasi-second-order methods, and compare them with first order methods, such as plain gradient descent.\n",
    "\n",
    "Let's first redefine the sigmoid function:"
   ]
  },
  {
   "cell_type": "code",
   "execution_count": 20,
   "metadata": {},
   "outputs": [],
   "source": [
    "def sigmoid(x):\n",
    "    \"\"\"Sigmoid function.\"\"\"\n",
    "    return 1./(1.+np.exp(-x))"
   ]
  },
  {
   "cell_type": "code",
   "execution_count": 21,
   "metadata": {},
   "outputs": [
    {
     "data": {
      "image/png": "[encoded data removed]",
      "text/plain": [
       "<Figure size 432x288 with 1 Axes>"
      ]
     },
     "metadata": {},
     "output_type": "display_data"
    }
   ],
   "source": [
    "xs = np.linspace(-5, 5, 100)\n",
    "plt.plot(xs, sigmoid(xs), **kwargs);"
   ]
  },
  {
   "cell_type": "code",
   "execution_count": 22,
   "metadata": {},
   "outputs": [],
   "source": [
    "def logistic_model(weights, data):\n",
    "    return sigmoid(data.dot(weights))\n",
    "\n",
    "def log_likelihood(weights, data, labels):\n",
    "    scores = np.dot(data, weights)\n",
    "    return -np.mean(labels*scores - np.log(1 + np.exp(scores)))\n",
    "\n",
    "def log_likelihood_gradient(weights, data, labels):\n",
    "    predictions = logistic_model(weights, data)  \n",
    "    return -data.T.dot(labels - predictions)/len(data)\n",
    "\n",
    "def log_likelihood_hessian(weights, data, labels):\n",
    "    predictions = logistic_model(weights, data)\n",
    "    diag = np.diag(predictions * (1 - predictions))\n",
    "    return data.T.dot(diag.dot(data))/len(data)"
   ]
  },
  {
   "cell_type": "code",
   "execution_count": 23,
   "metadata": {},
   "outputs": [],
   "source": [
    "m, n = 1000, 100\n",
    "data = np.random.normal(0, 1, (m, n))\n",
    "wopt = np.random.normal(0, 1, n)\n",
    "labels = (data.dot(wopt) > 0).astype(np.float)\n",
    "gradient = lambda w: log_likelihood_gradient(w, data, labels)\n",
    "hessian = lambda w: log_likelihood_hessian(w, data, labels)\n",
    "init = np.zeros(n)"
   ]
  },
  {
   "cell_type": "code",
   "execution_count": 24,
   "metadata": {},
   "outputs": [],
   "source": [
    "import sklearn.linear_model as linear_model"
   ]
  },
  {
   "cell_type": "code",
   "execution_count": 25,
   "metadata": {},
   "outputs": [
    {
     "data": {
      "text/plain": [
       "0.05166262561432568"
      ]
     },
     "execution_count": 25,
     "metadata": {},
     "output_type": "execute_result"
    }
   ],
   "source": [
    "cls = linear_model.LogisticRegression()\n",
    "cls.fit(data, labels)\n",
    "weights = np.reshape(cls.coef_, cls.coef_.shape[1])\n",
    "baseline = log_likelihood(weights, data, labels)\n",
    "baseline"
   ]
  },
  {
   "cell_type": "code",
   "execution_count": 26,
   "metadata": {},
   "outputs": [],
   "source": [
    "def gradient_descent(init, step_sizes, grad):    \n",
    "    X = [init]\n",
    "    for step in step_sizes:\n",
    "        X.append(X[-1] - step * grad(X[-1]))\n",
    "    return X"
   ]
  },
  {
   "cell_type": "code",
   "execution_count": 27,
   "metadata": {},
   "outputs": [],
   "source": [
    "def newton_descent(init, step_sizes, grad, hessian):\n",
    "    X = [init]\n",
    "    for step in step_sizes:\n",
    "        Hinv = np.linalg.pinv(hessian(X[-1]))\n",
    "        X.append(X[-1] - step * Hinv.dot(grad(X[-1])))\n",
    "    return X"
   ]
  },
  {
   "cell_type": "code",
   "execution_count": 28,
   "metadata": {},
   "outputs": [],
   "source": [
    "ws_gd = gradient_descent(init, np.ones(200), gradient)\n",
    "ws_newton = newton_descent(init, np.ones(200), gradient, hessian)"
   ]
  },
  {
   "cell_type": "code",
   "execution_count": 29,
   "metadata": {},
   "outputs": [
    {
     "data": {
      "image/png": "[encoded data removed]",
      "text/plain": [
       "<Figure size 576x576 with 1 Axes>"
      ]
     },
     "metadata": {},
     "output_type": "display_data"
    }
   ],
   "source": [
    "error_plot2([log_likelihood(w, data, labels) for w in ws_gd], \n",
    "            [log_likelihood(w, data, labels) for w in ws_newton])"
   ]
  },
  {
   "cell_type": "markdown",
   "metadata": {},
   "source": [
    "### Using BFGS in logistic regression"
   ]
  },
  {
   "cell_type": "code",
   "execution_count": 30,
   "metadata": {},
   "outputs": [],
   "source": [
    "def bfgs(init, grad, hessian, line_search, num_steps, num_to_keep=None):\n",
    "    \"\"\"BFGS algorithm (toy implementation).\n",
    "    \n",
    "    Parameters\n",
    "    ----------\n",
    "        initial : array\n",
    "            starting point\n",
    "        grad : function\n",
    "            mapping arrays to arrays of same shape\n",
    "        hessian : function\n",
    "            mapping 1d arrays to 2d arrays\n",
    "        line_search : function\n",
    "            method to determine step size\n",
    "        num_steps : number\n",
    "            number of iterations\n",
    "        num_to_keep : integer, optional\n",
    "            number of points to keep\n",
    "        \n",
    "    Returns\n",
    "    -------\n",
    "        List of points computed by Newton iteration. Length of the\n",
    "        list is determined by `num_to_keep`.\n",
    "    \"\"\"\n",
    "    xs = [init]\n",
    "    I = np.eye(len(init))\n",
    "    Hs = [hessian(init)]\n",
    "    Hinvs = [I]\n",
    "    \n",
    "    for _ in range(num_steps):\n",
    "        # update point\n",
    "        direction = Hinvs[-1].dot(grad(xs[-1]))\n",
    "        step = line_search(xs[-1], direction)\n",
    "        xs.append(xs[-1] + step * direction)\n",
    "        \n",
    "        s = xs[-1] - xs[-2]\n",
    "        y = grad(xs[-1]) - grad(xs[-2])\n",
    "        ys = np.dot(y, s)\n",
    "        ssT = np.outer(s, s)\n",
    "        \n",
    "        # udpate H\n",
    "        H = Hs[-1] + np.outer(y, y)/ys\n",
    "        H -= Hs[-1].dot(ssT.dot(Hs[-1]))/np.dot(s, Hs[-1].dot(s))\n",
    "        Hs.append(H)\n",
    "        \n",
    "        # update Hinv\n",
    "        left = I - np.outer(s, y)/ys\n",
    "        right = I - np.outer(y, s)/ys\n",
    "        Hinvs.append(left.dot(Hinvs[-1]).dot(right) + ssT/ys)\n",
    "        \n",
    "        if num_to_keep:\n",
    "          xs = xs[-num_to_keep:]\n",
    "    \n",
    "    return xs"
   ]
  },
  {
   "cell_type": "code",
   "execution_count": 32,
   "metadata": {},
   "outputs": [
    {
     "data": {
      "image/png": "[encoded data removed]",
      "text/plain": [
       "<Figure size 576x576 with 1 Axes>"
      ]
     },
     "metadata": {},
     "output_type": "display_data"
    }
   ],
   "source": [
    "def line_search(x, d):\n",
    "    \"\"\"Constant step size.\"\"\"\n",
    "    return -0.1\n",
    "\n",
    "ws_bfgs = bfgs(init, gradient, hessian, line_search, 200)\n",
    "\n",
    "error_plot3([log_likelihood(w, data, labels) for w in ws_gd], \n",
    "            [log_likelihood(w, data, labels) for w in ws_newton],\n",
    "            [log_likelihood(w, data, labels) for w in ws_bfgs])\n",
    "\n",
    "# error_plot([log_likelihood(w, data, labels) for w in ws_bfgs])\n",
    "# plt.plot(range(len(ws_bfgs)), [baseline]*len(ws_bfgs),\n",
    "#         label='sklearn', **kwargs)\n",
    "# _ = plt.legend()"
   ]
  },
  {
   "cell_type": "code",
   "execution_count": null,
   "metadata": {},
   "outputs": [],
   "source": []
  },
  {
   "cell_type": "code",
   "execution_count": null,
   "metadata": {},
   "outputs": [],
   "source": []
  }
 ],
 "metadata": {
  "kernelspec": {
   "display_name": "Python 3",
   "language": "python",
   "name": "python3"
  },
  "language_info": {
   "codemirror_mode": {
    "name": "ipython",
    "version": 3
   },
   "file_extension": ".py",
   "mimetype": "text/x-python",
   "name": "python",
   "nbconvert_exporter": "python",
   "pygments_lexer": "ipython3",
   "version": "3.6.5"
  }
 },
 "nbformat": 4,
 "nbformat_minor": 2
}
